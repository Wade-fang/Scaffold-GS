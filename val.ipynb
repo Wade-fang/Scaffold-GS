{
 "cells": [
  {
   "cell_type": "code",
   "execution_count": null,
   "id": "311f22c7",
   "metadata": {},
   "outputs": [],
   "source": [
    "import sonata\n",
    "import torch\n",
    "import time\n",
    "\n",
    "point = sonata.data.load(\"sample1\")\n",
    "print(f\"Point data loaded with {len(point)} points.\")\n",
    "transform = sonata.transform.default()\n",
    "model = sonata.model.load(\"sonata\", repo_id=\"facebook/sonata\").cuda()\n",
    "\n",
    "for param in model.parameters():\n",
    "    param.requires_grad = False\n",
    "      \n",
    "start_time = time.time()\n",
    "\n",
    "point = transform(point)\n",
    "for key in point.keys():\n",
    "    if isinstance(point[key], torch.Tensor):\n",
    "        point[key] = point[key].cuda(non_blocking=True)\n",
    "with torch.no_grad():\n",
    "    point = model(point)\n",
    "\n",
    "for _ in range(2):\n",
    "    assert \"pooling_parent\" in point.keys()\n",
    "    assert \"pooling_inverse\" in point.keys()\n",
    "    parent = point.pop(\"pooling_parent\")\n",
    "    inverse = point.pop(\"pooling_inverse\")\n",
    "    parent.feat = torch.cat([parent.feat, point.feat[inverse]], dim=-1)\n",
    "    point = parent\n",
    "while \"pooling_parent\" in point.keys():\n",
    "    assert \"pooling_inverse\" in point.keys()\n",
    "    parent = point.pop(\"pooling_parent\")\n",
    "    inverse = point.pop(\"pooling_inverse\")\n",
    "    parent.feat = point.feat[inverse]\n",
    "    point = parent\n",
    "feat = point.feat[point.inverse]\n",
    "\n",
    "print(f\"Time taken: {time.time() - start_time:.4f} seconds\")\n",
    "print(point['feat'].shape)\n",
    "print(point['coord'].shape)"
   ]
  }
 ],
 "metadata": {
  "kernelspec": {
   "display_name": "scsona",
   "language": "python",
   "name": "python3"
  },
  "language_info": {
   "name": "python",
   "version": "3.8.20"
  }
 },
 "nbformat": 4,
 "nbformat_minor": 5
}
